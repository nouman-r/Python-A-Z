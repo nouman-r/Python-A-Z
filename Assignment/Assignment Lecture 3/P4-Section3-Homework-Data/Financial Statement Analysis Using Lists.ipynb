{
 "cells": [
  {
   "cell_type": "code",
   "execution_count": 1,
   "metadata": {},
   "outputs": [],
   "source": [
    "#Data \n",
    "revenue = [14574.49, 7606.46, 8611.41, 9175.41, 8058.65, 8105.44, 11496.28, 9766.09, 10305.32, 14379.96, 10713.97, 15433.50]\n",
    "expenses = [12051.82, 5695.07, 12319.20, 12089.72, 8658.57, 840.20, 3285.73, 5821.12, 6976.93, 16618.61, 10054.37, 3803.96]"
   ]
  },
  {
   "cell_type": "code",
   "execution_count": 151,
   "metadata": {},
   "outputs": [
    {
     "name": "stdout",
     "output_type": "stream",
     "text": [
      "Profit Before Tax : [2, 1, -3, -2, 0, 7, 8, 3, 3, -2, 0, 11]\n",
      "Profit After Tax : [1, 1, -2, -2, 0, 5, 5, 2, 2, -1, 0, 8]\n",
      "Best Month :\n",
      "11\n",
      "Worst Month :\n",
      "2\n",
      "Profit Margin for Month 0 is 12%\n",
      "Profit Margin for Month 1 is 18%\n",
      "Profit Margin for Month 2 is -30%\n",
      "Profit Margin for Month 3 is -22%\n",
      "Profit Margin for Month 4 is -5%\n",
      "Profit Margin for Month 5 is 63%\n",
      "Profit Margin for Month 6 is 50%\n",
      "Profit Margin for Month 7 is 28%\n",
      "Profit Margin for Month 8 is 23%\n",
      "Profit Margin for Month 9 is -11%\n",
      "Profit Margin for Month 10 is 4%\n",
      "Profit Margin for Month 11 is 53%\n"
     ]
    }
   ],
   "source": [
    "# carry out entire operations in list. This could however be much quicker with Arrays.\n",
    "means = 0\n",
    "profit_AT = [] \n",
    "profit_BT = []\n",
    "profit_margin = []\n",
    "\n",
    "for i in range(len(revenue)):\n",
    "    profit_BT.append(i)\n",
    "    profit_AT.append(i)\n",
    "    profit_margin.append(i)\n",
    "    profit_BT[i] = revenue[i] - expenses[i]\n",
    "    profit_AT[i] = profit_BT[i] - ((profit_BT[i]*30)/100)\n",
    "    profit_margin[i] = profit_AT[i]/revenue[i]\n",
    "    means = means + profit_AT[i]\n",
    "    \n",
    "means = means/(len(profit_AT))\n",
    "a= 0\n",
    "b= 0\n",
    "good_month = [] \n",
    "bad_month = [] \n",
    "\n",
    "for j in range(len(profit_AT)):\n",
    "    if profit_AT[j] > means:\n",
    "        good_month.append(a)\n",
    "        good_month[a] = j\n",
    "        a = a + 1\n",
    "    else:\n",
    "        bad_month.append(b) \n",
    "        bad_month[b] = j\n",
    "        b = b + 1\n",
    "    if profit_AT[j] == max(profit_AT):\n",
    "        best_month = j\n",
    "    if profit_AT[j] == min(profit_AT):\n",
    "        worst_month = j\n",
    "    \n",
    "#dd = np.array(profit_AT)\n",
    "\n",
    "\n",
    "profit_AT_1000 = [round(x/1000, 2) for x in profit_AT] # round to 2 decimal places in 1000s\n",
    "profit_BT_1000 = [round(x/1000, 2) for x in profit_BT]\n",
    "\n",
    "profit_AT_1000 = [int(i) for i in profit_AT_1000] # convert elements of list to integers\n",
    "profit_BT_1000 = [int(i) for i in profit_BT_1000] # convert elements of list to integers\n",
    "\n",
    "print(\"Profit Before Tax :\", profit_BT_1000)\n",
    "print(\"Profit After Tax :\", profit_AT_1000)\n",
    "print(\"Best Month :\")\n",
    "print(best_month)\n",
    "print(\"Worst Month :\")\n",
    "print(worst_month)\n",
    "\n",
    "for k in range(len(profit_margin)):\n",
    "    print(\"Profit Margin for Month\", k, \"is\",  \"{:.0%}\".format(profit_margin[k]))"
   ]
  }
 ],
 "metadata": {
  "kernelspec": {
   "display_name": "Python 3",
   "language": "python",
   "name": "python3"
  },
  "language_info": {
   "codemirror_mode": {
    "name": "ipython",
    "version": 3
   },
   "file_extension": ".py",
   "mimetype": "text/x-python",
   "name": "python",
   "nbconvert_exporter": "python",
   "pygments_lexer": "ipython3",
   "version": "3.7.3"
  }
 },
 "nbformat": 4,
 "nbformat_minor": 1
}
