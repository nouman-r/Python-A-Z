{
 "cells": [
  {
   "cell_type": "code",
   "execution_count": 28,
   "metadata": {},
   "outputs": [],
   "source": [
    "import pandas as pd\n",
    "import numpy as np\n",
    "import matplotlib.pyplot as plt\n",
    "import seaborn as sns\n",
    "import warnings\n",
    "warnings.filterwarnings('ignore')\n",
    "import os"
   ]
  },
  {
   "cell_type": "code",
   "execution_count": 29,
   "metadata": {},
   "outputs": [
    {
     "data": {
      "text/plain": [
       "'C:\\\\Users\\\\rasheen1\\\\Documents\\\\Area Review'"
      ]
     },
     "execution_count": 29,
     "metadata": {},
     "output_type": "execute_result"
    }
   ],
   "source": [
    "os.getcwd()"
   ]
  },
  {
   "cell_type": "code",
   "execution_count": 30,
   "metadata": {},
   "outputs": [],
   "source": [
    "os.chdir('C:\\\\Users\\\\rasheen1\\\\Documents\\\\Area Review\\\\')"
   ]
  },
  {
   "cell_type": "code",
   "execution_count": 31,
   "metadata": {},
   "outputs": [
    {
     "data": {
      "text/plain": [
       "'C:\\\\Users\\\\rasheen1\\\\Documents\\\\Area Review'"
      ]
     },
     "execution_count": 31,
     "metadata": {},
     "output_type": "execute_result"
    }
   ],
   "source": [
    "os.getcwd()"
   ]
  },
  {
   "cell_type": "code",
   "execution_count": 32,
   "metadata": {},
   "outputs": [],
   "source": [
    "stats= pd.read_csv('3G 20190618.csv')"
   ]
  },
  {
   "cell_type": "code",
   "execution_count": 33,
   "metadata": {},
   "outputs": [
    {
     "name": "stdout",
     "output_type": "stream",
     "text": [
      "<class 'pandas.core.frame.DataFrame'>\n",
      "RangeIndex: 7472 entries, 0 to 7471\n",
      "Data columns (total 38 columns):\n",
      "Nouman_Rasheed_3G_Customer_Serving           7472 non-null object\n",
      "Day                                          7472 non-null object\n",
      "S12_3G_Availability_Universal                7472 non-null float64\n",
      "NOK Erlang CS Voice                          7472 non-null float64\n",
      "S12_3G_VSSR_Universal                        7472 non-null float64\n",
      "S12_3G_VCSR_Universal                        7472 non-null float64\n",
      "S12_3G_VDCR_Universal                        7472 non-null float64\n",
      "S12_3G_DSSR_Universal                        7472 non-null float64\n",
      "S12_3G_DCSR_Universal                        7472 non-null float64\n",
      "S12_3G_DDCR_Universal                        7472 non-null float64\n",
      "3G_Data_Traffic                              7472 non-null float64\n",
      "S12_3G_MPD_Universal                         7472 non-null object\n",
      "DATA_ACCESSIBILITY                           7472 non-null float64\n",
      "DATA_RETAINABILITY                           7472 non-null float64\n",
      "VOICE_ACCESSIBILITY                          7472 non-null float64\n",
      "% Network HSDPA Accessibility                7472 non-null float64\n",
      "% HSDPA Retainability                        7472 non-null float64\n",
      "NOK End User RRC Setup Complete %            7472 non-null float64\n",
      "NOK RRC Success % Call                       7472 non-null float64\n",
      "NOK RRC Success % Other                      7472 non-null float64\n",
      "CS Connection Setup Success Ratio %          7472 non-null float64\n",
      "PS Connection Setup Success Ratio %          7472 non-null float64\n",
      "NOK RAB Drop CS Voice %                      7472 non-null float64\n",
      "NOK RAB Drop PS Data %                       7472 non-null float64\n",
      "NOK Active Set Update Success Rate %         7472 non-null float64\n",
      "Nok Active Set Update Success Rate NRT %     7472 non-null float64\n",
      "Nok Active Set Update Success Rate RT %      7472 non-null float64\n",
      "NOK RAB DROP % CS VOICE                      7472 non-null float64\n",
      "PS_SETUP_FAIL_TRANS_INT                      7472 non-null int64\n",
      "AVE_PRX_NOISE                                7472 non-null float64\n",
      "Hotspot Config                               7472 non-null object\n",
      "3G DSSR Failures All                         7472 non-null int64\n",
      "3G DSSR Failures RAB_Part1                   7472 non-null int64\n",
      "3G DSSR Failures RAB_Part2                   7472 non-null int64\n",
      "3G DSSR Failures RRC                         7472 non-null int64\n",
      "PS_SETUP_FAIL_AC_INT_Avg                     7472 non-null int64\n",
      "PS_SETUP_FAIL_BTS_INT_Avg                    7472 non-null int64\n",
      "PS_SETUP_FAIL_UE_INT_Avg                     7472 non-null int64\n",
      "dtypes: float64(26), int64(8), object(4)\n",
      "memory usage: 2.2+ MB\n"
     ]
    }
   ],
   "source": [
    "stats.info()"
   ]
  },
  {
   "cell_type": "code",
   "execution_count": 34,
   "metadata": {},
   "outputs": [],
   "source": [
    "stats= stats.rename(columns={'Nouman_Rasheed_3G_Customer_Serving': 'CSR'})"
   ]
  },
  {
   "cell_type": "code",
   "execution_count": 35,
   "metadata": {},
   "outputs": [
    {
     "data": {
      "text/plain": [
       "Index(['CSR', 'Day', 'S12_3G_Availability_Universal', 'NOK Erlang CS Voice',\n",
       "       'S12_3G_VSSR_Universal', 'S12_3G_VCSR_Universal',\n",
       "       'S12_3G_VDCR_Universal', 'S12_3G_DSSR_Universal',\n",
       "       'S12_3G_DCSR_Universal', 'S12_3G_DDCR_Universal', '3G_Data_Traffic',\n",
       "       'S12_3G_MPD_Universal', 'DATA_ACCESSIBILITY', 'DATA_RETAINABILITY',\n",
       "       'VOICE_ACCESSIBILITY', '% Network HSDPA Accessibility',\n",
       "       '% HSDPA Retainability', 'NOK End User RRC Setup Complete %',\n",
       "       'NOK RRC Success % Call', 'NOK RRC Success % Other',\n",
       "       'CS Connection Setup Success Ratio %',\n",
       "       'PS Connection Setup Success Ratio %', 'NOK RAB Drop CS Voice %',\n",
       "       'NOK RAB Drop PS Data %', 'NOK Active Set Update Success Rate %',\n",
       "       'Nok Active Set Update Success Rate NRT % ',\n",
       "       'Nok Active Set Update Success Rate RT % ', 'NOK RAB DROP % CS VOICE',\n",
       "       'PS_SETUP_FAIL_TRANS_INT', 'AVE_PRX_NOISE', 'Hotspot Config',\n",
       "       '3G DSSR Failures All', '3G DSSR Failures RAB_Part1',\n",
       "       '3G DSSR Failures RAB_Part2', '3G DSSR Failures RRC',\n",
       "       'PS_SETUP_FAIL_AC_INT_Avg', 'PS_SETUP_FAIL_BTS_INT_Avg',\n",
       "       'PS_SETUP_FAIL_UE_INT_Avg'],\n",
       "      dtype='object')"
      ]
     },
     "execution_count": 35,
     "metadata": {},
     "output_type": "execute_result"
    }
   ],
   "source": [
    "stats.columns"
   ]
  },
  {
   "cell_type": "code",
   "execution_count": 36,
   "metadata": {},
   "outputs": [
    {
     "data": {
      "text/plain": [
       "934"
      ]
     },
     "execution_count": 36,
     "metadata": {},
     "output_type": "execute_result"
    }
   ],
   "source": [
    "len(stats.CSR.unique())"
   ]
  },
  {
   "cell_type": "code",
   "execution_count": 61,
   "metadata": {},
   "outputs": [
    {
     "data": {
      "text/plain": [
       "array(['12 Jun 19', '13 Jun 19', '14 Jun 19', '15 Jun 19', '16 Jun 19',\n",
       "       '17 Jun 19', '18 Jun 19', '19 Jun 19'], dtype=object)"
      ]
     },
     "execution_count": 61,
     "metadata": {},
     "output_type": "execute_result"
    }
   ],
   "source": [
    "stats.Day.unique()"
   ]
  },
  {
   "cell_type": "code",
   "execution_count": 70,
   "metadata": {},
   "outputs": [
    {
     "data": {
      "image/png": "[encoded data removed]",
      "text/plain": [
       "<Figure size 432x288 with 1 Axes>"
      ]
     },
     "metadata": {
      "needs_background": "light"
     },
     "output_type": "display_data"
    }
   ],
   "source": [
    "vis1 = sns.lineplot(data=stats, x='Day', y='3G DSSR Failures All', markers=True, label='3G DSSR', color='coral')\n",
    "vis2 = sns.lineplot(data=stats, x='Day', y='3G DSSR Failures RRC', markers=True, label='DSSR RRC')\n",
    "vis1 = sns.lineplot(data=stats, x='Day', y='3G DSSR Failures RAB_Part1')\n",
    "vis1 = sns.lineplot(data=stats, x='Day', y='3G DSSR Failures RAB_Part2')\n"
   ]
  },
  {
   "cell_type": "code",
   "execution_count": 72,
   "metadata": {},
   "outputs": [
    {
     "data": {
      "text/plain": [
       "CSR                                          0\n",
       "Day                                          0\n",
       "S12_3G_Availability_Universal                0\n",
       "NOK Erlang CS Voice                          0\n",
       "S12_3G_VSSR_Universal                        0\n",
       "S12_3G_VCSR_Universal                        0\n",
       "S12_3G_VDCR_Universal                        0\n",
       "S12_3G_DSSR_Universal                        0\n",
       "S12_3G_DCSR_Universal                        0\n",
       "S12_3G_DDCR_Universal                        0\n",
       "3G_Data_Traffic                              0\n",
       "S12_3G_MPD_Universal                         0\n",
       "DATA_ACCESSIBILITY                           0\n",
       "DATA_RETAINABILITY                           0\n",
       "VOICE_ACCESSIBILITY                          0\n",
       "% Network HSDPA Accessibility                0\n",
       "% HSDPA Retainability                        0\n",
       "NOK End User RRC Setup Complete %            0\n",
       "NOK RRC Success % Call                       0\n",
       "NOK RRC Success % Other                      0\n",
       "CS Connection Setup Success Ratio %          0\n",
       "PS Connection Setup Success Ratio %          0\n",
       "NOK RAB Drop CS Voice %                      0\n",
       "NOK RAB Drop PS Data %                       0\n",
       "NOK Active Set Update Success Rate %         0\n",
       "Nok Active Set Update Success Rate NRT %     0\n",
       "Nok Active Set Update Success Rate RT %      0\n",
       "NOK RAB DROP % CS VOICE                      0\n",
       "PS_SETUP_FAIL_TRANS_INT                      0\n",
       "AVE_PRX_NOISE                                0\n",
       "Hotspot Config                               0\n",
       "3G DSSR Failures All                         0\n",
       "3G DSSR Failures RAB_Part1                   0\n",
       "3G DSSR Failures RAB_Part2                   0\n",
       "3G DSSR Failures RRC                         0\n",
       "PS_SETUP_FAIL_AC_INT_Avg                     0\n",
       "PS_SETUP_FAIL_BTS_INT_Avg                    0\n",
       "PS_SETUP_FAIL_UE_INT_Avg                     0\n",
       "dtype: int64"
      ]
     },
     "execution_count": 72,
     "metadata": {},
     "output_type": "execute_result"
    }
   ],
   "source": [
    "stats.apply(lambda x: sum(x.isnull()),axis=0) "
   ]
  },
  {
   "cell_type": "code",
   "execution_count": null,
   "metadata": {},
   "outputs": [],
   "source": []
  }
 ],
 "metadata": {
  "kernelspec": {
   "display_name": "Python 3",
   "language": "python",
   "name": "python3"
  },
  "language_info": {
   "codemirror_mode": {
    "name": "ipython",
    "version": 3
   },
   "file_extension": ".py",
   "mimetype": "text/x-python",
   "name": "python",
   "nbconvert_exporter": "python",
   "pygments_lexer": "ipython3",
   "version": "3.7.3"
  }
 },
 "nbformat": 4,
 "nbformat_minor": 2
}
